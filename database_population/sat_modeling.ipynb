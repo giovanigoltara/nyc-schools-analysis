{
 "cells": [
  {
   "cell_type": "markdown",
   "id": "5986e87e",
   "metadata": {},
   "source": [
    "# NYC High School SAT Data Modeling and Cleaning\n",
    "\n",
    "#### Data Analysis Portfolio Project\n",
    "by Giovani Goltara\n",
    "\n",
    "---\n",
    "\n",
    "## Executive Summary\n",
    "\n",
    "This notebook demonstrates the process of cleaning, modeling, and preparing NYC high school SAT data for integration and analysis. Key steps include data quality assessment, normalization, removal of invalid or redundant data, and schema design for downstream analytics.\n",
    "\n",
    "---\n",
    "\n",
    "## Data Cleaning Logic\n",
    "\n",
    "- Initial assessment and cleaning performed using Data Wrangler.\n",
    "- Normalized column names for consistency.\n",
    "- Dropped rows with missing or invalid values (e.g., 's' for missing SAT scores).\n",
    "- Removed duplicate columns and corrected data types.\n",
    "- Filtered SAT scores to valid range (200-800).\n",
    "- Retained only the school code as the primary key.\n",
    "- Dropped unnecessary columns (e.g., school name, contact extension, percent students tested).\n",
    "\n",
    "## SQL Schema & Integration Strategy\n",
    "\n",
    "- Used `school_code` as the primary key for unique identification.\n",
    "- Removed low-quality or redundant columns to simplify the schema.\n",
    "- Ensured numeric columns have appropriate data types.\n",
    "- Dropped rows with invalid or missing critical values to maintain data integrity.\n",
    "- The cleaned table is ready for joining with other datasets on `school_code` for further analysis.\n",
    "- Downstream integrations should account for the absence of dropped columns."
   ]
  },
  {
   "cell_type": "code",
   "execution_count": null,
   "id": "1e2fb68a",
   "metadata": {},
   "outputs": [],
   "source": [
    "# Environment Setup: Import Required Libraries\n",
    "import pandas as pd\n",
    "import psycopg2\n",
    "from sqlalchemy import create_engine\n",
    "import warnings\n",
    "warnings.filterwarnings(\"ignore\")"
   ]
  },
  {
   "cell_type": "code",
   "execution_count": null,
   "id": "12dc32c4",
   "metadata": {},
   "outputs": [],
   "source": [
    "# Database Connection: Define PostgreSQL Connection String\n",
    "DATABASE_URL = (\n",
    "    \"postgresql+psycopg2://neondb_owner:npg_CeS9fJg2azZD\"\n",
    "    \"@ep-falling-glitter-a5m0j5gk-pooler.us-east-2.aws.neon.tech:5432/neondb\"\n",
    "    \"?sslmode=require\"\n",
    ")"
   ]
  },
  {
   "cell_type": "code",
   "execution_count": null,
   "id": "c2ba6577",
   "metadata": {},
   "outputs": [
    {
     "data": {
      "application/vnd.microsoft.datawrangler.viewer.v0+json": {
       "columns": [
        {
         "name": "index",
         "rawType": "int64",
         "type": "integer"
        },
        {
         "name": "DBN",
         "rawType": "object",
         "type": "string"
        },
        {
         "name": "SCHOOL NAME",
         "rawType": "object",
         "type": "string"
        },
        {
         "name": "Num of SAT Test Takers",
         "rawType": "object",
         "type": "string"
        },
        {
         "name": "SAT Critical Reading Avg. Score",
         "rawType": "object",
         "type": "string"
        },
        {
         "name": "SAT Math Avg. Score",
         "rawType": "object",
         "type": "string"
        },
        {
         "name": "SAT Writing Avg. Score",
         "rawType": "object",
         "type": "string"
        },
        {
         "name": "SAT Critical Readng Avg. Score",
         "rawType": "object",
         "type": "string"
        },
        {
         "name": "internal_school_id",
         "rawType": "int64",
         "type": "integer"
        },
        {
         "name": "contact_extension",
         "rawType": "object",
         "type": "string"
        },
        {
         "name": "pct_students_tested",
         "rawType": "object",
         "type": "unknown"
        },
        {
         "name": "academic_tier_rating",
         "rawType": "float64",
         "type": "float"
        }
       ],
       "ref": "208c1ac4-4e31-434c-9191-574f6c1dc435",
       "rows": [
        [
         "0",
         "01M292",
         "HENRY STREET SCHOOL FOR INTERNATIONAL STUDIES",
         "29",
         "355",
         "404",
         "363",
         "355",
         "218160",
         "x345",
         "78%",
         "2.0"
        ],
        [
         "1",
         "01M448",
         "UNIVERSITY NEIGHBORHOOD HIGH SCHOOL",
         "91",
         "383",
         "423",
         "366",
         "383",
         "268547",
         "x234",
         null,
         "3.0"
        ],
        [
         "2",
         "01M450",
         "EAST SIDE COMMUNITY SCHOOL",
         "70",
         "377",
         "402",
         "370",
         "377",
         "236446",
         "x123",
         null,
         "3.0"
        ],
        [
         "3",
         "01M458",
         "FORSYTH SATELLITE ACADEMY",
         "7",
         "414",
         "401",
         "359",
         "414",
         "427826",
         "x123",
         "92%",
         "4.0"
        ],
        [
         "4",
         "01M509",
         "MARTA VALLE HIGH SCHOOL",
         "44",
         "390",
         "433",
         "384",
         "390",
         "672714",
         "x123",
         "92%",
         "2.0"
        ]
       ],
       "shape": {
        "columns": 11,
        "rows": 5
       }
      },
      "text/html": [
       "<div>\n",
       "<style scoped>\n",
       "    .dataframe tbody tr th:only-of-type {\n",
       "        vertical-align: middle;\n",
       "    }\n",
       "\n",
       "    .dataframe tbody tr th {\n",
       "        vertical-align: top;\n",
       "    }\n",
       "\n",
       "    .dataframe thead th {\n",
       "        text-align: right;\n",
       "    }\n",
       "</style>\n",
       "<table border=\"1\" class=\"dataframe\">\n",
       "  <thead>\n",
       "    <tr style=\"text-align: right;\">\n",
       "      <th></th>\n",
       "      <th>DBN</th>\n",
       "      <th>SCHOOL NAME</th>\n",
       "      <th>Num of SAT Test Takers</th>\n",
       "      <th>SAT Critical Reading Avg. Score</th>\n",
       "      <th>SAT Math Avg. Score</th>\n",
       "      <th>SAT Writing Avg. Score</th>\n",
       "      <th>SAT Critical Readng Avg. Score</th>\n",
       "      <th>internal_school_id</th>\n",
       "      <th>contact_extension</th>\n",
       "      <th>pct_students_tested</th>\n",
       "      <th>academic_tier_rating</th>\n",
       "    </tr>\n",
       "  </thead>\n",
       "  <tbody>\n",
       "    <tr>\n",
       "      <th>0</th>\n",
       "      <td>01M292</td>\n",
       "      <td>HENRY STREET SCHOOL FOR INTERNATIONAL STUDIES</td>\n",
       "      <td>29</td>\n",
       "      <td>355</td>\n",
       "      <td>404</td>\n",
       "      <td>363</td>\n",
       "      <td>355</td>\n",
       "      <td>218160</td>\n",
       "      <td>x345</td>\n",
       "      <td>78%</td>\n",
       "      <td>2.0</td>\n",
       "    </tr>\n",
       "    <tr>\n",
       "      <th>1</th>\n",
       "      <td>01M448</td>\n",
       "      <td>UNIVERSITY NEIGHBORHOOD HIGH SCHOOL</td>\n",
       "      <td>91</td>\n",
       "      <td>383</td>\n",
       "      <td>423</td>\n",
       "      <td>366</td>\n",
       "      <td>383</td>\n",
       "      <td>268547</td>\n",
       "      <td>x234</td>\n",
       "      <td>NaN</td>\n",
       "      <td>3.0</td>\n",
       "    </tr>\n",
       "    <tr>\n",
       "      <th>2</th>\n",
       "      <td>01M450</td>\n",
       "      <td>EAST SIDE COMMUNITY SCHOOL</td>\n",
       "      <td>70</td>\n",
       "      <td>377</td>\n",
       "      <td>402</td>\n",
       "      <td>370</td>\n",
       "      <td>377</td>\n",
       "      <td>236446</td>\n",
       "      <td>x123</td>\n",
       "      <td>NaN</td>\n",
       "      <td>3.0</td>\n",
       "    </tr>\n",
       "    <tr>\n",
       "      <th>3</th>\n",
       "      <td>01M458</td>\n",
       "      <td>FORSYTH SATELLITE ACADEMY</td>\n",
       "      <td>7</td>\n",
       "      <td>414</td>\n",
       "      <td>401</td>\n",
       "      <td>359</td>\n",
       "      <td>414</td>\n",
       "      <td>427826</td>\n",
       "      <td>x123</td>\n",
       "      <td>92%</td>\n",
       "      <td>4.0</td>\n",
       "    </tr>\n",
       "    <tr>\n",
       "      <th>4</th>\n",
       "      <td>01M509</td>\n",
       "      <td>MARTA VALLE HIGH SCHOOL</td>\n",
       "      <td>44</td>\n",
       "      <td>390</td>\n",
       "      <td>433</td>\n",
       "      <td>384</td>\n",
       "      <td>390</td>\n",
       "      <td>672714</td>\n",
       "      <td>x123</td>\n",
       "      <td>92%</td>\n",
       "      <td>2.0</td>\n",
       "    </tr>\n",
       "  </tbody>\n",
       "</table>\n",
       "</div>"
      ],
      "text/plain": [
       "      DBN                                    SCHOOL NAME  \\\n",
       "0  01M292  HENRY STREET SCHOOL FOR INTERNATIONAL STUDIES   \n",
       "1  01M448            UNIVERSITY NEIGHBORHOOD HIGH SCHOOL   \n",
       "2  01M450                     EAST SIDE COMMUNITY SCHOOL   \n",
       "3  01M458                      FORSYTH SATELLITE ACADEMY   \n",
       "4  01M509                        MARTA VALLE HIGH SCHOOL   \n",
       "\n",
       "  Num of SAT Test Takers SAT Critical Reading Avg. Score SAT Math Avg. Score  \\\n",
       "0                     29                             355                 404   \n",
       "1                     91                             383                 423   \n",
       "2                     70                             377                 402   \n",
       "3                      7                             414                 401   \n",
       "4                     44                             390                 433   \n",
       "\n",
       "  SAT Writing Avg. Score SAT Critical Readng Avg. Score  internal_school_id  \\\n",
       "0                    363                            355              218160   \n",
       "1                    366                            383              268547   \n",
       "2                    370                            377              236446   \n",
       "3                    359                            414              427826   \n",
       "4                    384                            390              672714   \n",
       "\n",
       "  contact_extension pct_students_tested  academic_tier_rating  \n",
       "0              x345                 78%                   2.0  \n",
       "1              x234                 NaN                   3.0  \n",
       "2              x123                 NaN                   3.0  \n",
       "3              x123                 92%                   4.0  \n",
       "4              x123                 92%                   2.0  "
      ]
     },
     "execution_count": 86,
     "metadata": {},
     "output_type": "execute_result"
    }
   ],
   "source": [
    "# Data Ingestion: Load SAT Results Dataset\n",
    "df = pd.read_csv('/Users/giovanigoltara/Documents/webeet/onboarding-webeet/_onboarding_data-1/daily_tasks/day_4/day_4_datasets/sat-results.csv')\n",
    "df.head()"
   ]
  },
  {
   "cell_type": "code",
   "execution_count": null,
   "id": "ad1f6e2d",
   "metadata": {},
   "outputs": [
    {
     "data": {
      "application/vnd.microsoft.datawrangler.viewer.v0+json": {
       "columns": [
        {
         "name": "index",
         "rawType": "int64",
         "type": "integer"
        },
        {
         "name": "dbn",
         "rawType": "object",
         "type": "string"
        },
        {
         "name": "school_name",
         "rawType": "object",
         "type": "string"
        },
        {
         "name": "num_of_sat_test_takers",
         "rawType": "object",
         "type": "string"
        },
        {
         "name": "sat_critical_reading_avg_score",
         "rawType": "object",
         "type": "string"
        },
        {
         "name": "sat_math_avg_score",
         "rawType": "object",
         "type": "string"
        },
        {
         "name": "sat_writing_avg_score",
         "rawType": "object",
         "type": "string"
        },
        {
         "name": "sat_critical_readng_avg_score",
         "rawType": "object",
         "type": "string"
        },
        {
         "name": "internal_school_id",
         "rawType": "int64",
         "type": "integer"
        },
        {
         "name": "contact_extension",
         "rawType": "object",
         "type": "string"
        },
        {
         "name": "pct_students_tested",
         "rawType": "object",
         "type": "unknown"
        },
        {
         "name": "academic_tier_rating",
         "rawType": "float64",
         "type": "float"
        }
       ],
       "ref": "571aa7df-e34a-497d-938b-30af0591f937",
       "rows": [
        [
         "0",
         "01M292",
         "HENRY STREET SCHOOL FOR INTERNATIONAL STUDIES",
         "29",
         "355",
         "404",
         "363",
         "355",
         "218160",
         "x345",
         "78%",
         "2.0"
        ],
        [
         "1",
         "01M448",
         "UNIVERSITY NEIGHBORHOOD HIGH SCHOOL",
         "91",
         "383",
         "423",
         "366",
         "383",
         "268547",
         "x234",
         null,
         "3.0"
        ],
        [
         "2",
         "01M450",
         "EAST SIDE COMMUNITY SCHOOL",
         "70",
         "377",
         "402",
         "370",
         "377",
         "236446",
         "x123",
         null,
         "3.0"
        ],
        [
         "3",
         "01M458",
         "FORSYTH SATELLITE ACADEMY",
         "7",
         "414",
         "401",
         "359",
         "414",
         "427826",
         "x123",
         "92%",
         "4.0"
        ],
        [
         "4",
         "01M509",
         "MARTA VALLE HIGH SCHOOL",
         "44",
         "390",
         "433",
         "384",
         "390",
         "672714",
         "x123",
         "92%",
         "2.0"
        ]
       ],
       "shape": {
        "columns": 11,
        "rows": 5
       }
      },
      "text/html": [
       "<div>\n",
       "<style scoped>\n",
       "    .dataframe tbody tr th:only-of-type {\n",
       "        vertical-align: middle;\n",
       "    }\n",
       "\n",
       "    .dataframe tbody tr th {\n",
       "        vertical-align: top;\n",
       "    }\n",
       "\n",
       "    .dataframe thead th {\n",
       "        text-align: right;\n",
       "    }\n",
       "</style>\n",
       "<table border=\"1\" class=\"dataframe\">\n",
       "  <thead>\n",
       "    <tr style=\"text-align: right;\">\n",
       "      <th></th>\n",
       "      <th>dbn</th>\n",
       "      <th>school_name</th>\n",
       "      <th>num_of_sat_test_takers</th>\n",
       "      <th>sat_critical_reading_avg_score</th>\n",
       "      <th>sat_math_avg_score</th>\n",
       "      <th>sat_writing_avg_score</th>\n",
       "      <th>sat_critical_readng_avg_score</th>\n",
       "      <th>internal_school_id</th>\n",
       "      <th>contact_extension</th>\n",
       "      <th>pct_students_tested</th>\n",
       "      <th>academic_tier_rating</th>\n",
       "    </tr>\n",
       "  </thead>\n",
       "  <tbody>\n",
       "    <tr>\n",
       "      <th>0</th>\n",
       "      <td>01M292</td>\n",
       "      <td>HENRY STREET SCHOOL FOR INTERNATIONAL STUDIES</td>\n",
       "      <td>29</td>\n",
       "      <td>355</td>\n",
       "      <td>404</td>\n",
       "      <td>363</td>\n",
       "      <td>355</td>\n",
       "      <td>218160</td>\n",
       "      <td>x345</td>\n",
       "      <td>78%</td>\n",
       "      <td>2.0</td>\n",
       "    </tr>\n",
       "    <tr>\n",
       "      <th>1</th>\n",
       "      <td>01M448</td>\n",
       "      <td>UNIVERSITY NEIGHBORHOOD HIGH SCHOOL</td>\n",
       "      <td>91</td>\n",
       "      <td>383</td>\n",
       "      <td>423</td>\n",
       "      <td>366</td>\n",
       "      <td>383</td>\n",
       "      <td>268547</td>\n",
       "      <td>x234</td>\n",
       "      <td>NaN</td>\n",
       "      <td>3.0</td>\n",
       "    </tr>\n",
       "    <tr>\n",
       "      <th>2</th>\n",
       "      <td>01M450</td>\n",
       "      <td>EAST SIDE COMMUNITY SCHOOL</td>\n",
       "      <td>70</td>\n",
       "      <td>377</td>\n",
       "      <td>402</td>\n",
       "      <td>370</td>\n",
       "      <td>377</td>\n",
       "      <td>236446</td>\n",
       "      <td>x123</td>\n",
       "      <td>NaN</td>\n",
       "      <td>3.0</td>\n",
       "    </tr>\n",
       "    <tr>\n",
       "      <th>3</th>\n",
       "      <td>01M458</td>\n",
       "      <td>FORSYTH SATELLITE ACADEMY</td>\n",
       "      <td>7</td>\n",
       "      <td>414</td>\n",
       "      <td>401</td>\n",
       "      <td>359</td>\n",
       "      <td>414</td>\n",
       "      <td>427826</td>\n",
       "      <td>x123</td>\n",
       "      <td>92%</td>\n",
       "      <td>4.0</td>\n",
       "    </tr>\n",
       "    <tr>\n",
       "      <th>4</th>\n",
       "      <td>01M509</td>\n",
       "      <td>MARTA VALLE HIGH SCHOOL</td>\n",
       "      <td>44</td>\n",
       "      <td>390</td>\n",
       "      <td>433</td>\n",
       "      <td>384</td>\n",
       "      <td>390</td>\n",
       "      <td>672714</td>\n",
       "      <td>x123</td>\n",
       "      <td>92%</td>\n",
       "      <td>2.0</td>\n",
       "    </tr>\n",
       "  </tbody>\n",
       "</table>\n",
       "</div>"
      ],
      "text/plain": [
       "      dbn                                    school_name  \\\n",
       "0  01M292  HENRY STREET SCHOOL FOR INTERNATIONAL STUDIES   \n",
       "1  01M448            UNIVERSITY NEIGHBORHOOD HIGH SCHOOL   \n",
       "2  01M450                     EAST SIDE COMMUNITY SCHOOL   \n",
       "3  01M458                      FORSYTH SATELLITE ACADEMY   \n",
       "4  01M509                        MARTA VALLE HIGH SCHOOL   \n",
       "\n",
       "  num_of_sat_test_takers sat_critical_reading_avg_score sat_math_avg_score  \\\n",
       "0                     29                            355                404   \n",
       "1                     91                            383                423   \n",
       "2                     70                            377                402   \n",
       "3                      7                            414                401   \n",
       "4                     44                            390                433   \n",
       "\n",
       "  sat_writing_avg_score sat_critical_readng_avg_score  internal_school_id  \\\n",
       "0                   363                           355              218160   \n",
       "1                   366                           383              268547   \n",
       "2                   370                           377              236446   \n",
       "3                   359                           414              427826   \n",
       "4                   384                           390              672714   \n",
       "\n",
       "  contact_extension pct_students_tested  academic_tier_rating  \n",
       "0              x345                 78%                   2.0  \n",
       "1              x234                 NaN                   3.0  \n",
       "2              x123                 NaN                   3.0  \n",
       "3              x123                 92%                   4.0  \n",
       "4              x123                 92%                   2.0  "
      ]
     },
     "execution_count": 87,
     "metadata": {},
     "output_type": "execute_result"
    }
   ],
   "source": [
    "# Data Cleaning: Standardize and Normalize Column Names\n",
    "df.columns = df.columns.str.lower().str.replace(' ', '_').str.replace('-', '_').str.replace('.', '')\n",
    "df.head()"
   ]
  },
  {
   "cell_type": "code",
   "execution_count": null,
   "id": "ad5f5e10",
   "metadata": {},
   "outputs": [],
   "source": [
    "# Data Cleaning: Remove Duplicates and Handle Missing Values\n",
    "\n",
    "# Remove duplicate rows\n",
    "new_df = df.drop_duplicates()\n",
    "\n",
    "# Remove duplicated column if present\n",
    "new_df = new_df.drop(columns=['sat_critical_readng_avg_score'], errors='ignore')\n",
    "\n",
    "# Drop rows with 's' values in key columns\n",
    "columns_to_check = [\n",
    "    'num_of_sat_test_takers',\n",
    "    'sat_critical_reading_avg_score',\n",
    "    'sat_math_avg_score',\n",
    "    'sat_writing_avg_score',\n",
    "    'academic_tier_rating'\n",
    "    ]\n",
    "\n",
    "# Keep rows where at least one of the specified columns does not have 's'\n",
    "new_df = new_df[~(new_df[columns_to_check] == 's').all(axis=1)]"
   ]
  },
  {
   "cell_type": "code",
   "execution_count": null,
   "id": "000da119",
   "metadata": {},
   "outputs": [
    {
     "data": {
      "text/plain": [
       "416"
      ]
     },
     "execution_count": 89,
     "metadata": {},
     "output_type": "execute_result"
    }
   ],
   "source": [
    "# Data Integration: Upload Cleaned DataFrame to PostgreSQL Database\n",
    "new_df.to_sql(\n",
    "    name='giovani_sat_results',\n",
    "    con=engine,\n",
    "    schema='nyc_schools',\n",
    "    if_exists='replace',\n",
    "    index=False\n",
    "    )"
   ]
  },
  {
   "cell_type": "code",
   "execution_count": null,
   "id": "af12b808",
   "metadata": {},
   "outputs": [],
   "source": [
    "# Data Export: Save Cleaned DataFrame to CSV\n",
    "new_df.to_csv('/Users/giovanigoltara/Documents/webeet/onboarding-webeet/_onboarding_data-1/daily_tasks/day_4/sat-results-cleaned.csv', index=False)"
   ]
  }
 ],
 "metadata": {
  "kernelspec": {
   "display_name": "Python 3",
   "language": "python",
   "name": "python3"
  },
  "language_info": {
   "codemirror_mode": {
    "name": "ipython",
    "version": 3
   },
   "file_extension": ".py",
   "mimetype": "text/x-python",
   "name": "python",
   "nbconvert_exporter": "python",
   "pygments_lexer": "ipython3",
   "version": "3.12.3"
  }
 },
 "nbformat": 4,
 "nbformat_minor": 5
}
